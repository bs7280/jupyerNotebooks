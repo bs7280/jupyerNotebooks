{
 "cells": [
  {
   "cell_type": "markdown",
   "metadata": {},
   "source": [
    "### Data Normalizer: \n",
    "Class to take in a pandas dataframe and normalize the data data in one of several possible ways. Generally the goal is to get all data in a column between 0 and 1 but there are several ways to do it\n",
    "Examples:\n",
    " - normalize data with min/max for each column\n",
    " - use min max between several columns\n",
    " - use a non linear function to weight different values of the spectrum differently \n",
    "   for example: changes in values less then X are more significant than changes in values greator than X"
   ]
  },
  {
   "cell_type": "code",
   "execution_count": 3,
   "metadata": {
    "collapsed": true
   },
   "outputs": [],
   "source": [
    "import pandas as pd\n",
    "import numpy as np"
   ]
  },
  {
   "cell_type": "code",
   "execution_count": 74,
   "metadata": {
    "collapsed": true
   },
   "outputs": [],
   "source": [
    "class dataNormalizer():\n",
    "    \n",
    "    def columnMax(self, df, maxVals = None):\n",
    "        \"\"\"Normalizes all columns to be a percentage of the max value in the column\"\"\"\n",
    "        \n",
    "        if maxVals == None:\n",
    "            maxVals = map(lambda x: max(df[x]), df)\n",
    "        \n",
    "        # Loop through all the data\n",
    "        newData = []\n",
    "        for column, maxVal in zip(df.columns, maxVals):\n",
    "            # Gets values for column\n",
    "            values = list(df[column])\n",
    "            new = list(map(lambda x: x/maxVal, values))\n",
    "            newData.append(new)\n",
    "        return pd.DataFrame(np.transpose(newData), columns=df.columns)\n",
    "    \n",
    "    def columnGlobalMax(self, df):\n",
    "        globalMax = max(map(lambda x: max(df[x]), df))\n",
    "        return self.columnMax(df, maxVals = [globalMax]*len(df))\n",
    "    \n",
    "    def invert_columnMax(self, df, maxVals):\n",
    "        \"\"\" Function to return a dataframe back to it's origional values using \n",
    "        given max values as target max values. In this function maxvals are a \n",
    "        required parameter because there needs to be a target value.\n",
    "        \n",
    "        If given the output of columnMax using the same parameters, returns dataframe\n",
    "        origionally given to columMax() (with some minor difference due to issues with\n",
    "        floating point numbers.)\"\"\"\n",
    "        \n",
    "        # Loop through all the data\n",
    "        newData = []\n",
    "        for column, maxVal in zip(df.columns, maxVals):\n",
    "            # Gets values for column\n",
    "            values = list(df[column])\n",
    "            new = list(map(lambda x: x*maxVal, values))\n",
    "            newData.append(new)\n",
    "        return pd.DataFrame(np.transpose(newData), columns=df.columns), maxValues\n",
    "    \n",
    "    def invert_globalMax(self, df, globalMax):\n",
    "        return self.invert_columnMax(df, maxVals = [globalMax]*len(df))\n",
    "        "
   ]
  },
  {
   "cell_type": "markdown",
   "metadata": {},
   "source": [
    "### Test Data \n",
    "We will need some pandas DataFrames to do some testing with. In order to do this easily, I created a function randomDataframe(specs, n, [columns]) that will create datatables using a distribution of random values over a given range"
   ]
  },
  {
   "cell_type": "code",
   "execution_count": 70,
   "metadata": {
    "collapsed": false
   },
   "outputs": [],
   "source": [
    "def randomValues(specs, n):\n",
    "    \"\"\"specs is a list of tuples where each tuple cooresponds to the min and max of a column of data\n",
    "    n is the number of rows to create\"\"\"\n",
    "    colData = []\n",
    "    for col in specs:\n",
    "        colData.append(np.random.uniform(col[0],col[1], n))\n",
    "        \n",
    "    return np.transpose(colData)\n",
    "randomValues([(0,1), (0,5)], 3)\n",
    "\n",
    "def randomDataframe(specs, n, columns=None):\n",
    "    \"\"\"specs is a list of tuples where each tuple cooresponds to the min and max of a column of data\n",
    "    n is the number of rows to create. Set columns=[] list of columns to use custom headers.\n",
    "    Otherwise columns will assigned using the letters of the alphabet\"\"\"\n",
    "    if columns == None:\n",
    "        # Default columns to use is just the alphabet. need to make\n",
    "        # this go indefinately like in Excel\n",
    "        columns = ['A','B','C','D', 'E', 'F', 'G', 'H', 'I', 'J']\n",
    "    return pd.DataFrame(randomValues(specs, n), columns=columns[0:len(specs)])"
   ]
  },
  {
   "cell_type": "code",
   "execution_count": 71,
   "metadata": {
    "collapsed": false
   },
   "outputs": [],
   "source": [
    "dn = dataNormalizer()\n",
    "df = randomDataframe([(0,1), (0,100), (0,0.1)], 5)\n",
    "df_converted = dn.columnMax(df, maxVals=[1,100,0.1])\n",
    "df_reverted = dn.invert_columnMax(df_converted, maxVals=[1,100,0.1])"
   ]
  },
  {
   "cell_type": "code",
   "execution_count": 73,
   "metadata": {
    "collapsed": false
   },
   "outputs": [
    {
     "name": "stdout",
     "output_type": "stream",
     "text": [
      "          A          B         C\n",
      "0  0.090619  73.663785  0.014367\n",
      "1  0.152615  68.408236  0.089407\n",
      "2  0.615779  13.191674  0.005290\n",
      "3  0.609411  64.907519  0.023705\n",
      "4  0.476859   6.549739  0.065780\n",
      "          A         B         C\n",
      "0  0.090619  0.736638  0.143670\n",
      "1  0.152615  0.684082  0.894073\n",
      "2  0.615779  0.131917  0.052903\n",
      "3  0.609411  0.649075  0.237051\n",
      "4  0.476859  0.065497  0.657802\n",
      "          A          B         C\n",
      "0  0.090619  73.663785  0.014367\n",
      "1  0.152615  68.408236  0.089407\n",
      "2  0.615779  13.191674  0.005290\n",
      "3  0.609411  64.907519  0.023705\n",
      "4  0.476859   6.549739  0.065780\n"
     ]
    }
   ],
   "source": [
    "print df\n",
    "print df_converted\n",
    "print df_reverted"
   ]
  },
  {
   "cell_type": "markdown",
   "metadata": {},
   "source": [
    "### DataConverterWrapper (TODO):\n",
    "Should bascially be a class/function that wraps around a dataframe/dataNormalizer class that makes it easy to invert and revert dataframes"
   ]
  },
  {
   "cell_type": "code",
   "execution_count": null,
   "metadata": {
    "collapsed": true
   },
   "outputs": [],
   "source": []
  }
 ],
 "metadata": {
  "kernelspec": {
   "display_name": "Python 2",
   "language": "python",
   "name": "python2"
  },
  "language_info": {
   "codemirror_mode": {
    "name": "ipython",
    "version": 2
   },
   "file_extension": ".py",
   "mimetype": "text/x-python",
   "name": "python",
   "nbconvert_exporter": "python",
   "pygments_lexer": "ipython2",
   "version": "2.7.11"
  }
 },
 "nbformat": 4,
 "nbformat_minor": 0
}
