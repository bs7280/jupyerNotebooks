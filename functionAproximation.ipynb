{
 "cells": [
  {
   "cell_type": "markdown",
   "metadata": {},
   "source": [
    "### Into to neural networks - Function aproximation"
   ]
  },
  {
   "cell_type": "code",
   "execution_count": 1,
   "metadata": {
    "collapsed": true
   },
   "outputs": [],
   "source": [
    "%matplotlib inline\n",
    "\n",
    "import numpy as np\n",
    "from sklearn import preprocessing\n",
    "from sklearn.cross_validation import train_test_split\n",
    "from pybrain.tools.shortcuts import buildNetwork\n",
    "from pybrain.structure import TanhLayer\n",
    "from pybrain.datasets.classification import SupervisedDataSet\n",
    "from pybrain.supervised.trainers import BackpropTrainer\n",
    "from pybrain.tools.validation import Validator\n",
    "import pandas as pd\n",
    "import matplotlib\n",
    "import numpy as np\n",
    "import matplotlib.pyplot as plt"
   ]
  },
  {
   "cell_type": "markdown",
   "metadata": {},
   "source": [
    "### dataNormalizer\n",
    "a simple class used to normalize data backwards and forwards."
   ]
  },
  {
   "cell_type": "code",
   "execution_count": 2,
   "metadata": {
    "collapsed": true
   },
   "outputs": [],
   "source": [
    "class dataNormalizer():\n",
    "    \n",
    "    def columnMax(self, df, maxVals = None):\n",
    "        \"\"\"Normalizes all columns to be a percentage of the max value in the column\"\"\"\n",
    "        \n",
    "        if maxVals == None:\n",
    "            maxVals = map(lambda x: max(df[x]), df)\n",
    "        \n",
    "        # Loop through all the data\n",
    "        newData = []\n",
    "        for column, maxVal in zip(df.columns, maxVals):\n",
    "            # Gets values for column\n",
    "            values = list(df[column])\n",
    "            new = list(map(lambda x: x/maxVal, values))\n",
    "            newData.append(new)\n",
    "        return pd.DataFrame(np.transpose(newData), columns=df.columns), maxVals\n",
    "    \n",
    "    def columnGlobalMax(self, df):\n",
    "        globalMax = max(map(lambda x: max(df[x]), df))\n",
    "        return self.columnMax(df, maxVals = [globalMax]*len(df))\n",
    "    \n",
    "    def invert_columnMax(self, df, maxVals):\n",
    "        \"\"\" Function to return a dataframe back to it's origional values using \n",
    "        given max values as target max values. In this function maxvals are a \n",
    "        required parameter because there needs to be a target value.\n",
    "        \n",
    "        If given the output of columnMax using the same parameters, returns dataframe\n",
    "        origionally given to columMax() (with some minor difference due to issues with\n",
    "        floating point numbers.)\"\"\"\n",
    "        \n",
    "        # Loop through all the data\n",
    "        newData = []\n",
    "        for column, maxVal in zip(df.columns, maxVals):\n",
    "            # Gets values for column\n",
    "            values = list(df[column])\n",
    "            new = list(map(lambda x: x*maxVal, values))\n",
    "            newData.append(new)\n",
    "        return pd.DataFrame(np.transpose(newData), columns=df.columns)\n",
    "    \n",
    "    def invert_globalMax(self, df, globalMax):\n",
    "        return self.invert_columnMax(df, maxVals = [globalMax]*len(df))"
   ]
  },
  {
   "cell_type": "code",
   "execution_count": 5,
   "metadata": {
    "collapsed": false
   },
   "outputs": [],
   "source": [
    "# Design of a class\n",
    "\n",
    "class functionAproximator():\n",
    "    data_normalizer = dataNormalizer()\n",
    "    # Network size is a tuple of integers cooresponding to the number of nodes in each layer\n",
    "    # input data cooresponds to a table of input parameters\n",
    "    # outputData cooresponds to a list of real values for the \n",
    "    def __init__(self, \n",
    "                 networkSize, \n",
    "                 df, \n",
    "                 inputColumns=[], \n",
    "                 outputColumns=[], \n",
    "                 verbose=False, \n",
    "                 normalizeData=False\n",
    "                ):\n",
    "        \n",
    "        self.normalizeData = normalizeData\n",
    "        if normalizeData == True:\n",
    "            #= list(map(lambda x: max(df[x]), df))\n",
    "            df, self.maxValues = self.data_normalizer.columnGlobalMax(df)\n",
    "        self.networkSize = networkSize\n",
    "        self.inputData = df[inputColumns]\n",
    "        self.outputData = df[outputColumns]\n",
    "        self.fullData = df\n",
    "        \n",
    "        self.inputColumns = inputColumns\n",
    "        self.outputColumns = outputColumns\n",
    "        \n",
    "        self.numbInputs = len(self.inputColumns)\n",
    "        self.numbOutputs = len(self.outputColumns)\n",
    "        self.dataSize = len(df)\n",
    "        \n",
    "        self.verbose=verbose\n",
    "        \n",
    "        if self.numbOutputs > 1:\n",
    "            print \"ERROR! Too many outputs for now\"\n",
    "            \n",
    "    def setupData(self):\n",
    "        \"\"\"Take existing data and get it into numpy arrays then\n",
    "        feed it to the train_test_split function to get training and test data\"\"\"\n",
    "        \n",
    "        # Converting the input data to a numpy array\n",
    "        data = self.inputData.as_matrix()\n",
    "        target = self.outputData.as_matrix()\n",
    "        \n",
    "        #data = preprocessing.scale(data)\n",
    "\n",
    "        # Create z.  We reshape it to an array of 1-element arrays for pyBrain\n",
    "        #target = target.reshape(self.dataSize,1)\n",
    "\n",
    "        # Create train/test split\n",
    "        data_train, data_test, target_train, target_test = train_test_split(\n",
    "            data, target, test_size=.25, random_state=1\n",
    "        )\n",
    "    \n",
    "        # Create a dataset with 2 inputs and 1 output\n",
    "        ds_train = SupervisedDataSet(self.numbInputs, self.numbOutputs)\n",
    "\n",
    "        # add our data to the dataset\n",
    "        ds_train.setField('input', data_train)\n",
    "        ds_train.setField('target', target_train)\n",
    "\n",
    "        # Do the same for the test set\n",
    "        ds_test = SupervisedDataSet(self.numbInputs, self.numbOutputs)\n",
    "        ds_test.setField('input', data_test)\n",
    "        ds_test.setField('target', target_test)\n",
    "        \n",
    "        return ds_train, ds_test, target_train, target_test\n",
    "    def setupNetwork(self):\n",
    "        self.network = buildNetwork(*self.networkSize, hiddenclass=TanhLayer)\n",
    "    \n",
    "    def trainNetwork(self):\n",
    "        ds_train, ds_test, target_train, target_test = self.setupData()\n",
    "        \n",
    "        #print self.network, ds_train\n",
    "        \n",
    "        # Create a trainer for the network and training dataset\n",
    "        trainer = BackpropTrainer(self.network, ds_train)\n",
    "\n",
    "        # Train for a number of epochs and report accuracy:\n",
    "        for i in range(10):\n",
    "            # Train 10 epochs\n",
    "            trainer.trainEpochs(self.dataSize)\n",
    "\n",
    "            # Report mean squared error for training and testing sets\n",
    "            # `network.activateOnDataset` will return the predicted values for each input in the dataset passed to it.\n",
    "            # Then `Validator.MSE` returns the mean squared error of the returned value with the actual value.\n",
    "            if self.verbose:\n",
    "                print(\"Train MSE:\", Validator.MSE(self.network.activateOnDataset(ds_train), target_train))\n",
    "                print(\"Test MSE:\", Validator.MSE(self.network.activateOnDataset(ds_test), target_test))\n",
    "                \n",
    "    def fullSetup(self):\n",
    "        self.setupNetwork()\n",
    "        self.trainNetwork()\n",
    "    \n",
    "    def getAproximation(self):\n",
    "        return self.network.activate\n",
    "    \n",
    "    def getFullTable(self):\n",
    "        a = self.getAproximation()\n",
    "        if self.normalizeData == True:\n",
    "            print \"Bitch im normal\"\n",
    "            df = self.data_normalizer.invert_globalMax(self.fullData, self.maxValues[0])\n",
    "        else:\n",
    "            df = self.fullData\n",
    "        \n",
    "        df['predicted'] = list(map(lambda x: a(x[1:])[0], self.inputData.itertuples()))\n",
    "        \n",
    "        errors = list(map(lambda x,y: (x - y), df[self.outputColumns[0]], df['predicted']))\n",
    "        df['errors'] = errors\n",
    "        \n",
    "        return df"
   ]
  },
  {
   "cell_type": "markdown",
   "metadata": {},
   "source": [
    "### Simple mathematical equation aproximation"
   ]
  },
  {
   "cell_type": "code",
   "execution_count": 6,
   "metadata": {
    "collapsed": false
   },
   "outputs": [
    {
     "name": "stderr",
     "output_type": "stream",
     "text": [
      "/Users/ben/anaconda/lib/python2.7/site-packages/ipykernel/__main__.py:22: FutureWarning: sort(columns=....) is deprecated, use sort_values(by=.....)\n"
     ]
    },
    {
     "name": "stdout",
     "output_type": "stream",
     "text": [
      "Bitch im normal\n"
     ]
    },
    {
     "name": "stderr",
     "output_type": "stream",
     "text": [
      "/Users/ben/anaconda/lib/python2.7/site-packages/ipykernel/__main__.py:28: FutureWarning: sort(columns=....) is deprecated, use sort_values(by=.....)\n"
     ]
    }
   ],
   "source": [
    "# Function to aproximate:\n",
    "def foo(a,b):\n",
    "    a = float(a)\n",
    "    b = float(b)\n",
    "    return float(a * a + (b / 3)*a)\n",
    "\n",
    "def createDataset(function, ranges, number):\n",
    "    params = list(map(lambda x: list(np.random.uniform(x[0], x[1], number)), ranges))\n",
    "    zipped = zip(*params)\n",
    "    \n",
    "    calculated = list(map(lambda x: function(*x), zipped))\n",
    "    df = pd.DataFrame(zipped, columns = ['x', 'y'])\n",
    "    df['z'] = calculated\n",
    "    \n",
    "    return df\n",
    "\n",
    "dataTable = createDataset(foo, [(0,1), (0,1)], 100)\n",
    "\n",
    "\n",
    "FA_reg = functionAproximator((2,5,1), dataTable, inputColumns = ['x', 'y'], outputColumns = ['z'], verbose=False)\n",
    "FA_reg.fullSetup()\n",
    "df_regular = FA_reg.getFullTable().sort(['x', 'y'], ascending=[1, 1])\n",
    "\n",
    "\n",
    "\n",
    "FA_norm = functionAproximator((2,5,1), dataTable, inputColumns = ['x', 'y'], outputColumns = ['z'], verbose=False, normalizeData=True)\n",
    "FA_norm.fullSetup()\n",
    "df_normalized = FA_norm.getFullTable().sort(['x', 'y'], ascending=[1, 1])\n"
   ]
  },
  {
   "cell_type": "code",
   "execution_count": 7,
   "metadata": {
    "collapsed": false
   },
   "outputs": [
    {
     "data": {
      "text/plain": [
       "<matplotlib.axes._subplots.AxesSubplot at 0x116d86e90>"
      ]
     },
     "execution_count": 7,
     "metadata": {},
     "output_type": "execute_result"
    },
    {
     "data": {
      "image/png": "[encoded data removed]",
      "text/plain": [
       "<matplotlib.figure.Figure at 0x1144af910>"
      ]
     },
     "metadata": {},
     "output_type": "display_data"
    },
    {
     "data": {
      "image/png": "[encoded data removed]",
      "text/plain": [
       "<matplotlib.figure.Figure at 0x116c1df50>"
      ]
     },
     "metadata": {},
     "output_type": "display_data"
    },
    {
     "data": {
      "image/png": "[encoded data removed]",
      "text/plain": [
       "<matplotlib.figure.Figure at 0x116cca810>"
      ]
     },
     "metadata": {},
     "output_type": "display_data"
    },
    {
     "data": {
      "image/png": "[encoded data removed]",
      "text/plain": [
       "<matplotlib.figure.Figure at 0x116d07a10>"
      ]
     },
     "metadata": {},
     "output_type": "display_data"
    }
   ],
   "source": [
    "df_regular.plot.line(x='x', y='errors', ylim=(-1,1))\n",
    "df_normalized.plot.line(x='x', y='errors', ylim=(-1,1))\n",
    "df_regular.plot.line(x='x', y='predicted')\n",
    "df_normalized.plot.line(x='x', y='predicted')"
   ]
  },
  {
   "cell_type": "code",
   "execution_count": 8,
   "metadata": {
    "collapsed": false
   },
   "outputs": [
    {
     "data": {
      "text/plain": [
       "<matplotlib.axes._subplots.AxesSubplot at 0x1176e74d0>"
      ]
     },
     "execution_count": 8,
     "metadata": {},
     "output_type": "execute_result"
    },
    {
     "data": {
      "image/png": "[encoded data removed]",
      "text/plain": [
       "<matplotlib.figure.Figure at 0x114722b10>"
      ]
     },
     "metadata": {},
     "output_type": "display_data"
    },
    {
     "data": {
      "image/png": "[encoded data removed]",
      "text/plain": [
       "<matplotlib.figure.Figure at 0x1176ddc50>"
      ]
     },
     "metadata": {},
     "output_type": "display_data"
    }
   ],
   "source": [
    "df_regular.plot.line(x='x', y='predicted', ylim=(-1,1))\n",
    "df_normalized.plot.line(x='x', y='predicted', ylim=(-1,1))"
   ]
  },
  {
   "cell_type": "code",
   "execution_count": null,
   "metadata": {
    "collapsed": false
   },
   "outputs": [],
   "source": [
    "df.plot.line(x='x', y='z')"
   ]
  },
  {
   "cell_type": "code",
   "execution_count": null,
   "metadata": {
    "collapsed": true
   },
   "outputs": [],
   "source": []
  },
  {
   "cell_type": "code",
   "execution_count": null,
   "metadata": {
    "collapsed": true
   },
   "outputs": [],
   "source": []
  },
  {
   "cell_type": "markdown",
   "metadata": {},
   "source": [
    "### Demonstration of OR gate aproximation"
   ]
  },
  {
   "cell_type": "code",
   "execution_count": null,
   "metadata": {
    "collapsed": false
   },
   "outputs": [],
   "source": [
    "# Creating data for an XOR gate\n",
    "inputList = [\n",
    "                [0, 0],\n",
    "                [0, 1],\n",
    "                [1, 0],\n",
    "                [1, 1]\n",
    "            ]\n",
    "\n",
    "outputList = [\n",
    "                [0],\n",
    "                [1],\n",
    "                [1],\n",
    "                [0]\n",
    "]\n",
    "\n",
    "inputData = pd.DataFrame(inputList, columns=['x', 'y'])\n",
    "outputData = pd.DataFrame(outputList, columns=['z'])\n",
    "\n",
    "FA = functionAproximator((2,5,1), inputData, outputData)\n",
    "FA.getFullTable()"
   ]
  },
  {
   "cell_type": "code",
   "execution_count": null,
   "metadata": {
    "collapsed": true
   },
   "outputs": [],
   "source": []
  }
 ],
 "metadata": {
  "kernelspec": {
   "display_name": "Python 2",
   "language": "python",
   "name": "python2"
  },
  "language_info": {
   "codemirror_mode": {
    "name": "ipython",
    "version": 2
   },
   "file_extension": ".py",
   "mimetype": "text/x-python",
   "name": "python",
   "nbconvert_exporter": "python",
   "pygments_lexer": "ipython2",
   "version": "2.7.11"
  }
 },
 "nbformat": 4,
 "nbformat_minor": 0
}
